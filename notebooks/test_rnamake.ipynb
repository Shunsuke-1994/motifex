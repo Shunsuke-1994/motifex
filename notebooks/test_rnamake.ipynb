{
 "cells": [
  {
   "attachments": {},
   "cell_type": "markdown",
   "metadata": {},
   "source": [
    "# 目的\n",
    "RNAMakeで構造デザインしてみる. "
   ]
  },
  {
   "attachments": {},
   "cell_type": "markdown",
   "metadata": {},
   "source": [
    "## RNADesign"
   ]
  },
  {
   "cell_type": "code",
   "execution_count": 2,
   "metadata": {},
   "outputs": [
    {
     "ename": "SyntaxError",
     "evalue": "Missing parentheses in call to 'print'. Did you mean print(...)? (wrapper.py, line 84)",
     "output_type": "error",
     "traceback": [
      "Traceback \u001b[0;36m(most recent call last)\u001b[0m:\n",
      "\u001b[0m  File \u001b[1;32m~/miniconda3/envs/motifex/lib/python3.10/site-packages/IPython/core/interactiveshell.py:3460\u001b[0m in \u001b[1;35mrun_code\u001b[0m\n    exec(code_obj, self.user_global_ns, self.user_ns)\u001b[0m\n",
      "\u001b[0m  Cell \u001b[1;32mIn[2], line 4\u001b[0m\n    from design_rna_wrapper import DesignRNAWrapper\u001b[0m\n",
      "\u001b[0;36m  File \u001b[0;32m/users/sumishunsuke/Desktop/RNA/RNAMake/rnamake/wrappers/design_rna_wrapper.py:2\u001b[0;36m\n\u001b[0;31m    import wrapper\u001b[0;36m\n",
      "\u001b[0;36m  File \u001b[0;32m/users/sumishunsuke/Desktop/RNA/RNAMake/rnamake/wrappers/wrapper.py:84\u001b[0;36m\u001b[0m\n\u001b[0;31m    print cmd\u001b[0m\n\u001b[0m    ^\u001b[0m\n\u001b[0;31mSyntaxError\u001b[0m\u001b[0;31m:\u001b[0m Missing parentheses in call to 'print'. Did you mean print(...)?\n"
     ]
    }
   ],
   "source": [
    "import subprocess \n",
    "import sys \n",
    "sys.path.append('/users/sumishunsuke/Desktop/RNA/RNAMake/rnamake/wrappers')\n",
    "from design_rna_wrapper import DesignRNAWrapper"
   ]
  },
  {
   "cell_type": "code",
   "execution_count": null,
   "metadata": {},
   "outputs": [],
   "source": []
  }
 ],
 "metadata": {
  "kernelspec": {
   "display_name": "motifex",
   "language": "python",
   "name": "python3"
  },
  "language_info": {
   "codemirror_mode": {
    "name": "ipython",
    "version": 3
   },
   "file_extension": ".py",
   "mimetype": "text/x-python",
   "name": "python",
   "nbconvert_exporter": "python",
   "pygments_lexer": "ipython3",
   "version": "3.10.9"
  },
  "orig_nbformat": 4
 },
 "nbformat": 4,
 "nbformat_minor": 2
}
