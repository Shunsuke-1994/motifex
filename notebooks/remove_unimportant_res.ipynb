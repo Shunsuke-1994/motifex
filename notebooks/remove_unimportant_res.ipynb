{
 "cells": [
  {
   "attachments": {},
   "cell_type": "markdown",
   "metadata": {},
   "source": [
    "# 目的\n",
    "PDBファイルを読込み, 不必要な領域を全て消したpdbファイルを作成する.  "
   ]
  },
  {
   "cell_type": "code",
   "execution_count": 2,
   "metadata": {},
   "outputs": [
    {
     "name": "stderr",
     "output_type": "stream",
     "text": [
      "/Users/sumishunsuke/opt/miniconda3/envs/motifex/lib/python3.10/site-packages/Bio/PDB/Atom.py:232: PDBConstructionWarning: Used element 'P' for Atom (name=P) with given element ''\n",
      "  warnings.warn(msg, PDBConstructionWarning)\n",
      "/Users/sumishunsuke/opt/miniconda3/envs/motifex/lib/python3.10/site-packages/Bio/PDB/Atom.py:232: PDBConstructionWarning: Used element 'O' for Atom (name=OP2) with given element ''\n",
      "  warnings.warn(msg, PDBConstructionWarning)\n",
      "/Users/sumishunsuke/opt/miniconda3/envs/motifex/lib/python3.10/site-packages/Bio/PDB/Atom.py:232: PDBConstructionWarning: Used element 'O' for Atom (name=OP1) with given element ''\n",
      "  warnings.warn(msg, PDBConstructionWarning)\n",
      "/Users/sumishunsuke/opt/miniconda3/envs/motifex/lib/python3.10/site-packages/Bio/PDB/Atom.py:232: PDBConstructionWarning: Used element 'O' for Atom (name=O5') with given element ''\n",
      "  warnings.warn(msg, PDBConstructionWarning)\n",
      "/Users/sumishunsuke/opt/miniconda3/envs/motifex/lib/python3.10/site-packages/Bio/PDB/Atom.py:232: PDBConstructionWarning: Used element 'C' for Atom (name=C5') with given element ''\n",
      "  warnings.warn(msg, PDBConstructionWarning)\n",
      "/Users/sumishunsuke/opt/miniconda3/envs/motifex/lib/python3.10/site-packages/Bio/PDB/Atom.py:232: PDBConstructionWarning: Used element 'C' for Atom (name=C4') with given element ''\n",
      "  warnings.warn(msg, PDBConstructionWarning)\n",
      "/Users/sumishunsuke/opt/miniconda3/envs/motifex/lib/python3.10/site-packages/Bio/PDB/Atom.py:232: PDBConstructionWarning: Used element 'O' for Atom (name=O4') with given element ''\n",
      "  warnings.warn(msg, PDBConstructionWarning)\n",
      "/Users/sumishunsuke/opt/miniconda3/envs/motifex/lib/python3.10/site-packages/Bio/PDB/Atom.py:232: PDBConstructionWarning: Used element 'C' for Atom (name=C3') with given element ''\n",
      "  warnings.warn(msg, PDBConstructionWarning)\n",
      "/Users/sumishunsuke/opt/miniconda3/envs/motifex/lib/python3.10/site-packages/Bio/PDB/Atom.py:232: PDBConstructionWarning: Used element 'O' for Atom (name=O3') with given element ''\n",
      "  warnings.warn(msg, PDBConstructionWarning)\n",
      "/Users/sumishunsuke/opt/miniconda3/envs/motifex/lib/python3.10/site-packages/Bio/PDB/Atom.py:232: PDBConstructionWarning: Used element 'C' for Atom (name=C1') with given element ''\n",
      "  warnings.warn(msg, PDBConstructionWarning)\n",
      "/Users/sumishunsuke/opt/miniconda3/envs/motifex/lib/python3.10/site-packages/Bio/PDB/Atom.py:232: PDBConstructionWarning: Used element 'C' for Atom (name=C2') with given element ''\n",
      "  warnings.warn(msg, PDBConstructionWarning)\n",
      "/Users/sumishunsuke/opt/miniconda3/envs/motifex/lib/python3.10/site-packages/Bio/PDB/Atom.py:232: PDBConstructionWarning: Used element 'O' for Atom (name=O2') with given element ''\n",
      "  warnings.warn(msg, PDBConstructionWarning)\n",
      "/Users/sumishunsuke/opt/miniconda3/envs/motifex/lib/python3.10/site-packages/Bio/PDB/Atom.py:232: PDBConstructionWarning: Used element 'N' for Atom (name=N1) with given element ''\n",
      "  warnings.warn(msg, PDBConstructionWarning)\n",
      "/Users/sumishunsuke/opt/miniconda3/envs/motifex/lib/python3.10/site-packages/Bio/PDB/Atom.py:232: PDBConstructionWarning: Used element 'C' for Atom (name=C2) with given element ''\n",
      "  warnings.warn(msg, PDBConstructionWarning)\n",
      "/Users/sumishunsuke/opt/miniconda3/envs/motifex/lib/python3.10/site-packages/Bio/PDB/Atom.py:232: PDBConstructionWarning: Used element 'N' for Atom (name=N2) with given element ''\n",
      "  warnings.warn(msg, PDBConstructionWarning)\n",
      "/Users/sumishunsuke/opt/miniconda3/envs/motifex/lib/python3.10/site-packages/Bio/PDB/Atom.py:232: PDBConstructionWarning: Used element 'N' for Atom (name=N3) with given element ''\n",
      "  warnings.warn(msg, PDBConstructionWarning)\n",
      "/Users/sumishunsuke/opt/miniconda3/envs/motifex/lib/python3.10/site-packages/Bio/PDB/Atom.py:232: PDBConstructionWarning: Used element 'C' for Atom (name=C4) with given element ''\n",
      "  warnings.warn(msg, PDBConstructionWarning)\n",
      "/Users/sumishunsuke/opt/miniconda3/envs/motifex/lib/python3.10/site-packages/Bio/PDB/Atom.py:232: PDBConstructionWarning: Used element 'C' for Atom (name=C5) with given element ''\n",
      "  warnings.warn(msg, PDBConstructionWarning)\n",
      "/Users/sumishunsuke/opt/miniconda3/envs/motifex/lib/python3.10/site-packages/Bio/PDB/Atom.py:232: PDBConstructionWarning: Used element 'C' for Atom (name=C6) with given element ''\n",
      "  warnings.warn(msg, PDBConstructionWarning)\n",
      "/Users/sumishunsuke/opt/miniconda3/envs/motifex/lib/python3.10/site-packages/Bio/PDB/Atom.py:232: PDBConstructionWarning: Used element 'O' for Atom (name=O6) with given element ''\n",
      "  warnings.warn(msg, PDBConstructionWarning)\n",
      "/Users/sumishunsuke/opt/miniconda3/envs/motifex/lib/python3.10/site-packages/Bio/PDB/Atom.py:232: PDBConstructionWarning: Used element 'N' for Atom (name=N7) with given element ''\n",
      "  warnings.warn(msg, PDBConstructionWarning)\n",
      "/Users/sumishunsuke/opt/miniconda3/envs/motifex/lib/python3.10/site-packages/Bio/PDB/Atom.py:232: PDBConstructionWarning: Used element 'C' for Atom (name=C8) with given element ''\n",
      "  warnings.warn(msg, PDBConstructionWarning)\n",
      "/Users/sumishunsuke/opt/miniconda3/envs/motifex/lib/python3.10/site-packages/Bio/PDB/Atom.py:232: PDBConstructionWarning: Used element 'N' for Atom (name=N9) with given element ''\n",
      "  warnings.warn(msg, PDBConstructionWarning)\n",
      "/Users/sumishunsuke/opt/miniconda3/envs/motifex/lib/python3.10/site-packages/Bio/PDB/Atom.py:232: PDBConstructionWarning: Used element 'N' for Atom (name=N6) with given element ''\n",
      "  warnings.warn(msg, PDBConstructionWarning)\n",
      "/Users/sumishunsuke/opt/miniconda3/envs/motifex/lib/python3.10/site-packages/Bio/PDB/Atom.py:232: PDBConstructionWarning: Used element 'O' for Atom (name=O2) with given element ''\n",
      "  warnings.warn(msg, PDBConstructionWarning)\n",
      "/Users/sumishunsuke/opt/miniconda3/envs/motifex/lib/python3.10/site-packages/Bio/PDB/Atom.py:232: PDBConstructionWarning: Used element 'O' for Atom (name=O4) with given element ''\n",
      "  warnings.warn(msg, PDBConstructionWarning)\n",
      "/Users/sumishunsuke/opt/miniconda3/envs/motifex/lib/python3.10/site-packages/Bio/PDB/Atom.py:232: PDBConstructionWarning: Used element 'N' for Atom (name=N4) with given element ''\n",
      "  warnings.warn(msg, PDBConstructionWarning)\n",
      "/Users/sumishunsuke/opt/miniconda3/envs/motifex/lib/python3.10/site-packages/Bio/PDB/PDBParser.py:395: PDBConstructionWarning: Ignoring unrecognized record 'TER' at line 1692\n",
      "  warnings.warn(\n"
     ]
    }
   ],
   "source": [
    "from Bio.PDB import PDBParser, PDBIO\n",
    "\n",
    "input_pdb = '/Users/sumishunsuke/desktop/RNA/RNAMAKE-master/examples/cpp/design_rna/design.0.pdb'\n",
    "\n",
    "parser = PDBParser()\n",
    "structure = parser.get_structure(\"rna_structure\", input_pdb)"
   ]
  },
  {
   "cell_type": "code",
   "execution_count": 7,
   "metadata": {},
   "outputs": [],
   "source": [
    "start_residue = 5\n",
    "end_residue = 10\n",
    "\n",
    "\n",
    "for model in structure:\n",
    "    for chain in model:\n",
    "        residues_to_remove = []\n",
    "        for residue in chain:\n",
    "            if residue.id[1] < start_residue or residue.id[1] > end_residue:\n",
    "                residues_to_remove.append(residue)\n",
    "        \n",
    "        for residue in residues_to_remove:\n",
    "            chain.detach_child(residue.id)"
   ]
  },
  {
   "cell_type": "code",
   "execution_count": 8,
   "metadata": {},
   "outputs": [],
   "source": [
    "io = PDBIO()\n",
    "io.set_structure(structure)\n",
    "# io.save('/Users/sumishunsuke/desktop/RNA/RNAMAKE-master/examples/cpp/design_rna/design.0.test.pdb')"
   ]
  },
  {
   "cell_type": "code",
   "execution_count": null,
   "metadata": {},
   "outputs": [],
   "source": []
  }
 ],
 "metadata": {
  "kernelspec": {
   "display_name": "motifex",
   "language": "python",
   "name": "python3"
  },
  "language_info": {
   "codemirror_mode": {
    "name": "ipython",
    "version": 3
   },
   "file_extension": ".py",
   "mimetype": "text/x-python",
   "name": "python",
   "nbconvert_exporter": "python",
   "pygments_lexer": "ipython3",
   "version": "3.10.9"
  },
  "orig_nbformat": 4
 },
 "nbformat": 4,
 "nbformat_minor": 2
}
